{
  "nbformat": 4,
  "nbformat_minor": 0,
  "metadata": {
    "colab": {
      "provenance": [],
      "authorship_tag": "ABX9TyMI7A0AZWKsNahCAiu9nfL4",
      "include_colab_link": true
    },
    "kernelspec": {
      "name": "python3",
      "display_name": "Python 3"
    },
    "language_info": {
      "name": "python"
    }
  },
  "cells": [
    {
      "cell_type": "markdown",
      "metadata": {
        "id": "view-in-github",
        "colab_type": "text"
      },
      "source": [
        "<a href=\"https://colab.research.google.com/github/Tonry12/data_science_bootcamp_8_tonnaw/blob/main/python101_test.ipynb\" target=\"_parent\"><img src=\"https://colab.research.google.com/assets/colab-badge.svg\" alt=\"Open In Colab\"/></a>"
      ]
    },
    {
      "cell_type": "markdown",
      "source": [
        "#**string , Integer , float**"
      ],
      "metadata": {
        "id": "zLC73IETyCG0"
      }
    },
    {
      "cell_type": "code",
      "source": [
        "'1'+'3' # string +string คือการต่อ string"
      ],
      "metadata": {
        "colab": {
          "base_uri": "https://localhost:8080/",
          "height": 34
        },
        "id": "0CnIIxmqyD2D",
        "outputId": "abbebe1c-0391-4f65-eaf4-eaa503c65436"
      },
      "execution_count": null,
      "outputs": [
        {
          "output_type": "execute_result",
          "data": {
            "text/plain": [
              "'13'"
            ],
            "application/vnd.google.colaboratory.intrinsic+json": {
              "type": "string"
            }
          },
          "metadata": {},
          "execution_count": 1
        }
      ]
    },
    {
      "cell_type": "markdown",
      "source": [
        "### Advanced Printing ( print code ร่วมกับข้อความ)\n",
        "เราสามารถ print code ร่วมกับข้อความได้\n",
        "\n",
        "```python\n",
        "print(f'ข้อความ{code}')\n",
        "```\n",
        "\n",
        "```python\n",
        "print(f'หนึ่ง บวก สอง (1+2) เท่ากับ สาม ({1+2})')\n",
        "```"
      ],
      "metadata": {
        "id": "JP7KeiZEyWkd"
      }
    },
    {
      "cell_type": "code",
      "source": [
        "c = 1+2\n",
        "print(f'ตัวแปร c = {c}')"
      ],
      "metadata": {
        "colab": {
          "base_uri": "https://localhost:8080/"
        },
        "id": "aNXrSP5_yIps",
        "outputId": "62db4dc9-9a32-48ee-e2e6-af8f7793632a"
      },
      "execution_count": null,
      "outputs": [
        {
          "output_type": "stream",
          "name": "stdout",
          "text": [
            "ตัวแปร c = 3\n"
          ]
        }
      ]
    },
    {
      "cell_type": "code",
      "source": [
        "a = 1\n",
        "b = 2\n",
        "print(f'หนึ่ง บวก สอง ({a}+{b}) เท่ากับ สาม ({a+b})')"
      ],
      "metadata": {
        "colab": {
          "base_uri": "https://localhost:8080/"
        },
        "id": "b7pIBBJCyhkf",
        "outputId": "2f11cca5-2437-4bf1-8c59-f3ddc7f13a75"
      },
      "execution_count": null,
      "outputs": [
        {
          "output_type": "stream",
          "name": "stdout",
          "text": [
            "หนึ่ง บวก สอง (1+2) เท่ากับ สาม (3)\n"
          ]
        }
      ]
    },
    {
      "cell_type": "markdown",
      "source": [
        "### float (จำนวนจริง ทศนิยม)\n",
        "    double เหมือน float เเต่แค่ใช้พื้นที่เก็บข้อมูลมากกว่า"
      ],
      "metadata": {
        "id": "xGpBuIiTyqIV"
      }
    },
    {
      "cell_type": "markdown",
      "source": [
        "```decimal point (ทศนิยมกี่ตำแหน่ง) || digit ```"
      ],
      "metadata": {
        "id": "Js-XNcnIy5yN"
      }
    },
    {
      "cell_type": "markdown",
      "source": [
        "decimal place"
      ],
      "metadata": {
        "id": "Fo9CkPAty7-C"
      }
    },
    {
      "cell_type": "code",
      "source": [
        "f'{1.009:.2f}' #เป็นการ format เลขทศนิยมหลายๆตำแหน่งให้เหลืออยู่ 2 ตำแหน่ง"
      ],
      "metadata": {
        "colab": {
          "base_uri": "https://localhost:8080/",
          "height": 34
        },
        "id": "qRnjd5Q_ytjO",
        "outputId": "76835fbf-f425-4195-b034-1d0bee5f3b03"
      },
      "execution_count": null,
      "outputs": [
        {
          "output_type": "execute_result",
          "data": {
            "text/plain": [
              "'1.01'"
            ],
            "application/vnd.google.colaboratory.intrinsic+json": {
              "type": "string"
            }
          },
          "metadata": {},
          "execution_count": 4
        }
      ]
    },
    {
      "cell_type": "code",
      "source": [
        "f'{1:03d}' #ข้างหน้าคือตัวเลขที่ต้องการ หลัง : ตือต้องการจำนวน decimal ที่มี3หลัก และมีเลข0 นำหน้า ตัว d หมายถึง decimal"
      ],
      "metadata": {
        "colab": {
          "base_uri": "https://localhost:8080/",
          "height": 34
        },
        "id": "XKdhQ1rezmnq",
        "outputId": "3b61dd9e-5eed-48d0-9959-eb5f596b5002"
      },
      "execution_count": null,
      "outputs": [
        {
          "output_type": "execute_result",
          "data": {
            "text/plain": [
              "'001'"
            ],
            "application/vnd.google.colaboratory.intrinsic+json": {
              "type": "string"
            }
          },
          "metadata": {},
          "execution_count": 5
        }
      ]
    },
    {
      "cell_type": "code",
      "source": [
        "fl_a = 7.  # เขียนแค่จุดก็ได้\n",
        "fl_b = 2.571\n",
        "\n",
        "print(fl_a)\n",
        "print(fl_b)"
      ],
      "metadata": {
        "colab": {
          "base_uri": "https://localhost:8080/"
        },
        "id": "k2Jw0psczrVZ",
        "outputId": "1a09af37-9535-4005-fb73-8808c9b53d21"
      },
      "execution_count": null,
      "outputs": [
        {
          "output_type": "stream",
          "name": "stdout",
          "text": [
            "7.0\n",
            "2.571\n"
          ]
        }
      ]
    },
    {
      "cell_type": "code",
      "source": [
        "print(fl_a,type(fl_a)) #check class"
      ],
      "metadata": {
        "colab": {
          "base_uri": "https://localhost:8080/"
        },
        "id": "4wLCn5jBzxe3",
        "outputId": "d67f9fd9-b10f-47bc-d95f-d4eb342799f2"
      },
      "execution_count": null,
      "outputs": [
        {
          "output_type": "stream",
          "name": "stdout",
          "text": [
            "7.0 <class 'float'>\n"
          ]
        }
      ]
    },
    {
      "cell_type": "code",
      "source": [
        "200**(1/2) #มันคือ squre root 200"
      ],
      "metadata": {
        "colab": {
          "base_uri": "https://localhost:8080/"
        },
        "id": "cHeHBZV10AEq",
        "outputId": "02a99c0e-a007-4f07-b3bf-6f511708525b"
      },
      "execution_count": null,
      "outputs": [
        {
          "output_type": "execute_result",
          "data": {
            "text/plain": [
              "14.142135623730951"
            ]
          },
          "metadata": {},
          "execution_count": 8
        }
      ]
    },
    {
      "cell_type": "markdown",
      "source": [
        "### ```replace()``` แทนที่ string\n",
        "เราจะได้ใช้ตอนที่แทนที่ตัวอักษรที่ผิดพลาด จากการโหลดมาจากในเน็ต"
      ],
      "metadata": {
        "id": "tMkKr5CX0Qg-"
      }
    },
    {
      "cell_type": "code",
      "source": [
        "st_test1 = 'Department of Statistics, '\n",
        "st_test2 = 'Faculty of Science'"
      ],
      "metadata": {
        "id": "9htA986M0ZHk"
      },
      "execution_count": null,
      "outputs": []
    },
    {
      "cell_type": "code",
      "source": [
        "st_test1.replace('e','ต') #('ตัวที่อยากเปลี่ยน','แทนที่ด้วยตัวอะไร')"
      ],
      "metadata": {
        "colab": {
          "base_uri": "https://localhost:8080/",
          "height": 34
        },
        "id": "kZmPdKkz0geY",
        "outputId": "bebf57e0-17f8-4fe3-91a6-985609f679e9"
      },
      "execution_count": null,
      "outputs": [
        {
          "output_type": "execute_result",
          "data": {
            "text/plain": [
              "'Dตpartmตnt of Statistics, '"
            ],
            "application/vnd.google.colaboratory.intrinsic+json": {
              "type": "string"
            }
          },
          "metadata": {},
          "execution_count": 11
        }
      ]
    },
    {
      "cell_type": "code",
      "source": [
        "'เเถมหัวใจให้เทอ'.replace('เเ','แ') #แทนที่สระเอ2ตัว ด้วย สระแอ"
      ],
      "metadata": {
        "colab": {
          "base_uri": "https://localhost:8080/",
          "height": 34
        },
        "id": "TWu1K79M0kRH",
        "outputId": "73b68f82-3526-40d9-e3d5-9fe1aa9f0d0b"
      },
      "execution_count": null,
      "outputs": [
        {
          "output_type": "execute_result",
          "data": {
            "text/plain": [
              "'แถมหัวใจให้เทอ'"
            ],
            "application/vnd.google.colaboratory.intrinsic+json": {
              "type": "string"
            }
          },
          "metadata": {},
          "execution_count": 12
        }
      ]
    },
    {
      "cell_type": "markdown",
      "source": [
        "### ```split()``` แยก string"
      ],
      "metadata": {
        "id": "ul24FkMq0shQ"
      }
    },
    {
      "cell_type": "code",
      "source": [
        "'a b c d e f g'.split() #แยกด้วยช่องว่าง"
      ],
      "metadata": {
        "colab": {
          "base_uri": "https://localhost:8080/"
        },
        "id": "KHJWwy7Y0wiZ",
        "outputId": "26698e5c-02b5-44a4-edc4-56991dcf5f09"
      },
      "execution_count": null,
      "outputs": [
        {
          "output_type": "execute_result",
          "data": {
            "text/plain": [
              "['a', 'b', 'c', 'd', 'e', 'f', 'g']"
            ]
          },
          "metadata": {},
          "execution_count": 13
        }
      ]
    },
    {
      "cell_type": "code",
      "source": [
        "'a,b/c,d e/f g'.split('/') #แยกด้วย /"
      ],
      "metadata": {
        "colab": {
          "base_uri": "https://localhost:8080/"
        },
        "id": "Yt-Oq6gO0yXU",
        "outputId": "5781e6dd-695d-4ef4-b3c4-37d90b1a5dac"
      },
      "execution_count": null,
      "outputs": [
        {
          "output_type": "execute_result",
          "data": {
            "text/plain": [
              "['a,b', 'c,d e', 'f g']"
            ]
          },
          "metadata": {},
          "execution_count": 14
        }
      ]
    },
    {
      "cell_type": "code",
      "source": [
        "st_test2.split(' ') #แยกด้วยช่องว่าง"
      ],
      "metadata": {
        "colab": {
          "base_uri": "https://localhost:8080/"
        },
        "id": "3bW99kEU0zyS",
        "outputId": "f647bb96-0885-41aa-e061-22a6ba467282"
      },
      "execution_count": null,
      "outputs": [
        {
          "output_type": "execute_result",
          "data": {
            "text/plain": [
              "['Faculty', 'of', 'Science']"
            ]
          },
          "metadata": {},
          "execution_count": 16
        }
      ]
    },
    {
      "cell_type": "markdown",
      "source": [
        "# **Data Structure (โครงสร้างข้อมูล)**\n",
        "การเก็บข้อมูลหลาย ๆ ตัวไว้ด้วยกันอย่างเป็นระเบียบ"
      ],
      "metadata": {
        "id": "mdH38XOG1h7X"
      }
    },
    {
      "cell_type": "markdown",
      "source": [
        "## ```list()```\n",
        "\n",
        "- เก็บ data type อะไรก็ได้\n",
        "- ลำดับในการเก็บ มีความสำคัญ\n",
        "- list จะถูกคลุมด้วย square brackets []\n",
        "- ข้อมูลแต่ละตัวจะถูกแยกด้วยเครื่องหมาย comma"
      ],
      "metadata": {
        "id": "tqPXDzKS3Ph4"
      }
    },
    {
      "cell_type": "markdown",
      "source": [
        "เพิ่มเติมเกี่ยวกับ list https://shorturl.asia/a3V5u\n",
        "มีเนื้อหาดังนี้\n",
        "- สร้าง list\n",
        "- reverse ลำดับข้อมูล\n",
        "- จัดเรียงข้อมูลตามลำดับ (มากไปน้อย - น้อยไปมาก)\n",
        "- หา index ของข้อมูล\n",
        "- เข้าถึงข้อมูล (ตำแหน่งของ index เริ่มจาก 0 ถึง n-1)\n",
        "- Negative Indexing (การ index แบบให้ค่าติดลบ)\n",
        "- Range indexes\n",
        "- เปลี่ยนค่าของ item\n",
        "- Loop List\n",
        "- Check item ใน list (ใช้ if…in keyword เพื่อดูว่ามี item นั้นๆใน list หรือเปล่า )\n",
        "- นับ items ใน list (len())\n",
        "- นับว่ามี item นั้นกี่อัน (count())\n",
        "- เพิ่ม item\n",
        "- insert() method\n",
        "- ลบ item ออกจาก list remove() method"
      ],
      "metadata": {
        "id": "nSAX-uLx3biS"
      }
    },
    {
      "cell_type": "code",
      "source": [
        "list_a = [1,2,3,4,5,6]"
      ],
      "metadata": {
        "id": "NdZDFGsi3Qd0"
      },
      "execution_count": null,
      "outputs": []
    },
    {
      "cell_type": "code",
      "source": [
        "list_b = ['ab',2,3.14 , list_a] # จะเก็บ data type อะไรก็ได้"
      ],
      "metadata": {
        "id": "7_x1aS1o5LPO"
      },
      "execution_count": null,
      "outputs": []
    },
    {
      "cell_type": "markdown",
      "source": [
        "### indexing การชี้สมาชิกใน list ด้วย เลขลำดับของ list\n",
        "(การดึงสมาชิกในลิสต์ออกมา)"
      ],
      "metadata": {
        "id": "DtJD-1eD59sS"
      }
    },
    {
      "cell_type": "code",
      "source": [
        "list_b[3] # เอาสมาชิกตัวที่ 4"
      ],
      "metadata": {
        "colab": {
          "base_uri": "https://localhost:8080/"
        },
        "id": "jO05o26y6FnO",
        "outputId": "c9d635c0-fa72-4575-927b-f7d34af36ee0"
      },
      "execution_count": null,
      "outputs": [
        {
          "output_type": "execute_result",
          "data": {
            "text/plain": [
              "[1, 2, 3, 4, 5, 6]"
            ]
          },
          "metadata": {},
          "execution_count": 20
        }
      ]
    },
    {
      "cell_type": "code",
      "source": [
        "list_b[3][3] # เอาสมาชิกตัวที่ 4 เเละเอาสมาชิกตัวที่ 4 ใน list นั้นอีกที เพรามันซ้อนกันอยู่"
      ],
      "metadata": {
        "colab": {
          "base_uri": "https://localhost:8080/"
        },
        "id": "8ZVMbaqd6N5n",
        "outputId": "a273b435-8b07-4dd7-cee5-f3059549c40b"
      },
      "execution_count": null,
      "outputs": [
        {
          "output_type": "execute_result",
          "data": {
            "text/plain": [
              "4"
            ]
          },
          "metadata": {},
          "execution_count": 21
        }
      ]
    },
    {
      "cell_type": "code",
      "source": [
        "list_a[-1] # index -1 คือตัวสุดท้ายของ list"
      ],
      "metadata": {
        "colab": {
          "base_uri": "https://localhost:8080/"
        },
        "id": "Nd_ZWFsB6Rke",
        "outputId": "bfccde75-a8d2-48ab-ca32-5e497a6c0efa"
      },
      "execution_count": null,
      "outputs": [
        {
          "output_type": "execute_result",
          "data": {
            "text/plain": [
              "6"
            ]
          },
          "metadata": {},
          "execution_count": 22
        }
      ]
    },
    {
      "cell_type": "code",
      "source": [
        "list_a[-4] # index ติดลบ นับจาก 4 ตัวสุดท้าย"
      ],
      "metadata": {
        "colab": {
          "base_uri": "https://localhost:8080/"
        },
        "id": "cQq76hyE6Tv0",
        "outputId": "cc2a3875-48eb-47ef-939a-c9e30fade8c6"
      },
      "execution_count": null,
      "outputs": [
        {
          "output_type": "execute_result",
          "data": {
            "text/plain": [
              "3"
            ]
          },
          "metadata": {},
          "execution_count": 23
        }
      ]
    },
    {
      "cell_type": "markdown",
      "source": [
        "### List Slicing ```:```\n",
        "การดึงข้อมูลจาก list"
      ],
      "metadata": {
        "id": "UlDNOzYh-NSu"
      }
    },
    {
      "cell_type": "markdown",
      "source": [
        "`list[จุดเเริ่มต้น  (ทึบ):จุดสุดท้าย  (โปร่ง)]`\n",
        "\n",
        "`list[จุดเเริ่มต้น  (ทึบ):จุดสุดท้าย  (โปร่ง):step]`"
      ],
      "metadata": {
        "id": "Lu6D9qiU-Wl1"
      }
    },
    {
      "cell_type": "markdown",
      "source": [
        "![image.png](data:image/png;base64,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)"
      ],
      "metadata": {
        "id": "GySLM0fS-aGR"
      }
    },
    {
      "cell_type": "code",
      "source": [
        "list_a[-3:] # : colon  # ดึงสมาชิก สามตัวสุดท้าย ออกมา"
      ],
      "metadata": {
        "colab": {
          "base_uri": "https://localhost:8080/"
        },
        "id": "gEoOjiB2-Q46",
        "outputId": "734fc987-4025-4683-ae62-d0f62a67702a"
      },
      "execution_count": null,
      "outputs": [
        {
          "output_type": "execute_result",
          "data": {
            "text/plain": [
              "[4, 5, 6]"
            ]
          },
          "metadata": {},
          "execution_count": 24
        }
      ]
    },
    {
      "cell_type": "code",
      "source": [
        "list_a[:4] # ก็จะเอาตั้งเเต่ ตัวที่ 0 1 2 3 ออกมา"
      ],
      "metadata": {
        "colab": {
          "base_uri": "https://localhost:8080/"
        },
        "id": "mGAo7PcD-gLy",
        "outputId": "39158b5f-4fd9-4c2b-aedb-5cd576b898fd"
      },
      "execution_count": null,
      "outputs": [
        {
          "output_type": "execute_result",
          "data": {
            "text/plain": [
              "[1, 2, 3, 4]"
            ]
          },
          "metadata": {},
          "execution_count": 25
        }
      ]
    },
    {
      "cell_type": "code",
      "source": [
        "list_a[1:4] # จะเอาเลข 2 , 3 , 4"
      ],
      "metadata": {
        "colab": {
          "base_uri": "https://localhost:8080/"
        },
        "id": "po4EjPet-hsA",
        "outputId": "fa2b4167-f5db-4693-d126-df75a305ccfe"
      },
      "execution_count": null,
      "outputs": [
        {
          "output_type": "execute_result",
          "data": {
            "text/plain": [
              "[2, 3, 4]"
            ]
          },
          "metadata": {},
          "execution_count": 26
        }
      ]
    },
    {
      "cell_type": "code",
      "source": [
        "list_a[:] # คือเอาทุกตัว"
      ],
      "metadata": {
        "colab": {
          "base_uri": "https://localhost:8080/"
        },
        "id": "gX0XPrRO-kpx",
        "outputId": "7d5504d4-ab43-481c-baed-3ef12e472b9b"
      },
      "execution_count": null,
      "outputs": [
        {
          "output_type": "execute_result",
          "data": {
            "text/plain": [
              "[1, 2, 3, 4, 5, 6]"
            ]
          },
          "metadata": {},
          "execution_count": 27
        }
      ]
    },
    {
      "cell_type": "markdown",
      "source": [
        "### step"
      ],
      "metadata": {
        "id": "djZ8QhFW-lZ2"
      }
    },
    {
      "cell_type": "code",
      "source": [
        "list_a[1:-1:2]"
      ],
      "metadata": {
        "colab": {
          "base_uri": "https://localhost:8080/"
        },
        "id": "Q_WH0y27-ogU",
        "outputId": "27e349ef-fd92-44b4-9184-8810b577771d"
      },
      "execution_count": null,
      "outputs": [
        {
          "output_type": "execute_result",
          "data": {
            "text/plain": [
              "[2, 4]"
            ]
          },
          "metadata": {},
          "execution_count": 28
        }
      ]
    },
    {
      "cell_type": "code",
      "source": [
        "list_c = [1,2,3,4,5,6,7,8,9,10,11,12,13] # กำหนด list_c"
      ],
      "metadata": {
        "id": "tlOMUFmn-rhc"
      },
      "execution_count": null,
      "outputs": []
    },
    {
      "cell_type": "code",
      "source": [
        "list_c[:10:] # เอา 10 ตัวเเรก"
      ],
      "metadata": {
        "colab": {
          "base_uri": "https://localhost:8080/"
        },
        "id": "jGF6jRF0-tWY",
        "outputId": "67534896-b7b3-4bcf-dcb5-beedefaedc82"
      },
      "execution_count": null,
      "outputs": [
        {
          "output_type": "execute_result",
          "data": {
            "text/plain": [
              "[1, 2, 3, 4, 5, 6, 7, 8, 9, 10]"
            ]
          },
          "metadata": {},
          "execution_count": 30
        }
      ]
    },
    {
      "cell_type": "code",
      "source": [
        "list_c[:10:2] # กระโดดทีละ 2 ขั้น"
      ],
      "metadata": {
        "colab": {
          "base_uri": "https://localhost:8080/"
        },
        "id": "mKzh8Y-E-1tE",
        "outputId": "3c4ad558-232d-4a01-f49a-8c871f4a8e1f"
      },
      "execution_count": null,
      "outputs": [
        {
          "output_type": "execute_result",
          "data": {
            "text/plain": [
              "[1, 3, 5, 7, 9]"
            ]
          },
          "metadata": {},
          "execution_count": 31
        }
      ]
    },
    {
      "cell_type": "code",
      "source": [
        "list_c[::-1] # แบบกลับหลัง #เอาทุกตัวแต่ว่าเอาทีละ-1"
      ],
      "metadata": {
        "colab": {
          "base_uri": "https://localhost:8080/"
        },
        "id": "pIUEVYzJ-3lS",
        "outputId": "c371a699-12cf-43a2-ba12-d46d58e9cb53"
      },
      "execution_count": null,
      "outputs": [
        {
          "output_type": "execute_result",
          "data": {
            "text/plain": [
              "[13, 12, 11, 10, 9, 8, 7, 6, 5, 4, 3, 2, 1]"
            ]
          },
          "metadata": {},
          "execution_count": 32
        }
      ]
    },
    {
      "cell_type": "markdown",
      "source": [
        "##QUIZE 2\n",
        "\n",
        "```\n",
        "# กำหนด list เป็นประโยคคำว่า \" Department of statistics, fuculty of science, Khon kaen University, Thailand\"\n",
        "\n",
        "1 ตัดมาเฉพาะคำว่า fuculty of science\n",
        "2 ตัดแบบเว้นทีละ 3 ตัวอักษร\n",
        "3 ตัดคำว่า Khon kaen University แบบกลับหลัง\n",
        "```\n",
        "\n"
      ],
      "metadata": {
        "id": "fcjxg6n2_KlJ"
      }
    },
    {
      "cell_type": "code",
      "source": [
        "list_t = \"Department of statistics, fuculty of science, Khon kaen University, Thailand\""
      ],
      "metadata": {
        "id": "wi9uS_X4_Rpf"
      },
      "execution_count": null,
      "outputs": []
    },
    {
      "cell_type": "code",
      "source": [
        "list_t[26:44] #ข้อ1"
      ],
      "metadata": {
        "colab": {
          "base_uri": "https://localhost:8080/",
          "height": 34
        },
        "id": "r5fH5o4f_StV",
        "outputId": "1cc6f146-98e8-440b-934b-21f314f999b8"
      },
      "execution_count": null,
      "outputs": [
        {
          "output_type": "execute_result",
          "data": {
            "text/plain": [
              "'fuculty of science'"
            ],
            "application/vnd.google.colaboratory.intrinsic+json": {
              "type": "string"
            }
          },
          "metadata": {},
          "execution_count": 34
        }
      ]
    },
    {
      "cell_type": "code",
      "source": [
        "list_t[:77:3] #ข้อ 2"
      ],
      "metadata": {
        "colab": {
          "base_uri": "https://localhost:8080/",
          "height": 34
        },
        "id": "51EEb3gX_WtC",
        "outputId": "ee8d5921-efb6-4d15-f444-f9e53c3959e8"
      },
      "execution_count": null,
      "outputs": [
        {
          "output_type": "execute_result",
          "data": {
            "text/plain": [
              "'Damtftii,ul  ic oknnei,hld'"
            ],
            "application/vnd.google.colaboratory.intrinsic+json": {
              "type": "string"
            }
          },
          "metadata": {},
          "execution_count": 36
        }
      ]
    },
    {
      "cell_type": "code",
      "source": [
        "list_t[-11:45:-1] #ข้อ 3"
      ],
      "metadata": {
        "colab": {
          "base_uri": "https://localhost:8080/",
          "height": 34
        },
        "id": "VUn5x6nM_beJ",
        "outputId": "711f3f49-6205-49ad-f2ef-ddf4ad1d3363"
      },
      "execution_count": null,
      "outputs": [
        {
          "output_type": "execute_result",
          "data": {
            "text/plain": [
              "'ytisrevinU neak nohK'"
            ],
            "application/vnd.google.colaboratory.intrinsic+json": {
              "type": "string"
            }
          },
          "metadata": {},
          "execution_count": 37
        }
      ]
    },
    {
      "cell_type": "markdown",
      "source": [
        "## HW1\n",
        "คำนวณว่า ช่วงเวลาต่อไปนี้ ห่างกันที่ ชั่วโมง กี่นาที กี่วินาที(print ออกมาให้สวยงาม)\n",
        "- 12:30:15-13:41:07\n",
        "- 09:11:50-21:30:15\n",
        "- 19:25:30-03:10:15"
      ],
      "metadata": {
        "id": "KtxOJ4py_pqe"
      }
    },
    {
      "cell_type": "code",
      "source": [
        "time_all = '12:30:15', '13:41:07' , '09:11:50', '21:30:15' ,'19:25:30', '03:10:15'\n"
      ],
      "metadata": {
        "id": "6oJpatdv_qlw"
      },
      "execution_count": null,
      "outputs": []
    },
    {
      "cell_type": "code",
      "source": [
        "#ข้อที่ 1\n",
        "# 12:30:15-13:41:07\n",
        "from datetime import time, datetime\n",
        "time_a = time_all[0]\n",
        "time_b = time_all[1]\n",
        "\n",
        "# เปลี่ยนเวลาจาก string เป็น datetime\n",
        "t1 = datetime.strptime(time_a, \"%H:%M:%S\")\n",
        "t2 = datetime.strptime(time_b, \"%H:%M:%S\")\n",
        "\n",
        "# หาความต่างของเวลา\n",
        "delta = t2 - t1\n",
        "str_ab = str(delta)\n",
        "sp_ab = str_ab.split(':')\n",
        "print(f\"ดังนั้น เวลา {time_all[0]}น. กับเวลา {time_all[1]}น. ห่างกันอยู่ {sp_ab[0]}  ชั่วโมง {sp_ab[1]} นาที {sp_ab[2]} วินาที\")\n"
      ],
      "metadata": {
        "colab": {
          "base_uri": "https://localhost:8080/"
        },
        "id": "7m2um041_vHD",
        "outputId": "28a05430-8f61-4ab2-a8cb-9774e459c397"
      },
      "execution_count": null,
      "outputs": [
        {
          "output_type": "stream",
          "name": "stdout",
          "text": [
            "ดังนั้น เวลา 12:30:15น. กับเวลา 13:41:07น. ห่างกันอยู่ 1  ชั่วโมง 10 นาที 52 วินาที\n"
          ]
        }
      ]
    },
    {
      "cell_type": "code",
      "source": [
        "#ข้อที่ 2\n",
        "# 09:11:50-21:30:15\n",
        "time_c = time_all[2]\n",
        "time_d = time_all[3]\n",
        "\n",
        "# เปลี่ยนเวลาจาก string เป็น datetime\n",
        "t3 = datetime.strptime(time_c, \"%H:%M:%S\")\n",
        "t4 = datetime.strptime(time_d, \"%H:%M:%S\")\n",
        "\n",
        "# หาความต่างของเวลา\n",
        "delta_cd = t4 - t3\n",
        "str_cd = str(delta_cd)\n",
        "sp_cd = str_cd.split(':')\n",
        "print(f\"ดังนั้น เวลา {time_all[2]}น. กับเวลา {time_all[3]}น. ห่างกันอยู่ {sp_cd[0]}  ชั่วโมง {sp_cd[1]} นาที {sp_cd[2]} วินาที\")\n"
      ],
      "metadata": {
        "colab": {
          "base_uri": "https://localhost:8080/"
        },
        "id": "zSuXGkFT_xMy",
        "outputId": "ab0e7353-4ca2-4db9-9a11-f16292da012c"
      },
      "execution_count": null,
      "outputs": [
        {
          "output_type": "stream",
          "name": "stdout",
          "text": [
            "ดังนั้น เวลา 09:11:50น. กับเวลา 21:30:15น. ห่างกันอยู่ 12  ชั่วโมง 18 นาที 25 วินาที\n"
          ]
        }
      ]
    },
    {
      "cell_type": "code",
      "source": [
        "#ข้อที่ 3\n",
        "# 19:25:30-03:10:15\n",
        "time_e = time_all[4]\n",
        "time_f = time_all[5]\n",
        "\n",
        "# เปลี่ยนเวลาจาก string เป็น datetime\n",
        "t5 = datetime.strptime(time_e, \"%H:%M:%S\")\n",
        "t6 = datetime.strptime(time_f, \"%H:%M:%S\")\n",
        "\n",
        "# หาความต่างของเวลา\n",
        "delta_ef = t5 - t6\n",
        "str_ef = str(delta_ef)\n",
        "sp_ef = str_ef.split(':')\n",
        "print(f\"ดังนั้น เวลา {time_all[4]}น. กับเวลา {time_all[5]}น. ห่างกันอยู่ {sp_ef[0]}  ชั่วโมง {sp_ef[1]} นาที {sp_ef[2]} วินาที\")"
      ],
      "metadata": {
        "colab": {
          "base_uri": "https://localhost:8080/"
        },
        "id": "hHBm_mhK_zB5",
        "outputId": "9e453888-f519-4e6e-a877-51bceaaac135"
      },
      "execution_count": null,
      "outputs": [
        {
          "output_type": "stream",
          "name": "stdout",
          "text": [
            "ดังนั้น เวลา 19:25:30น. กับเวลา 03:10:15น. ห่างกันอยู่ 16  ชั่วโมง 15 นาที 15 วินาที\n"
          ]
        }
      ]
    },
    {
      "cell_type": "markdown",
      "source": [
        "# **Dictionary**\n",
        "- คล้าย list\n",
        "- เป็น {}\n",
        "- เก็บข้อมูลในรูปแบบ key:values\n",
        "- index เป็นอะไรก็ได้ ไม่จำเป็นต้องเป็นตัวเลขลำดับ\n",
        "- ลำดับไม่มีความสำคัญ"
      ],
      "metadata": {
        "id": "EwXRnsoJ_3o8"
      }
    },
    {
      "cell_type": "code",
      "source": [
        "dict_a = {1:'Happy','N':'New','2022':'Year'} # { } เรียกว่า curly brackets"
      ],
      "metadata": {
        "id": "XV1LopS6yBQQ"
      },
      "execution_count": 1,
      "outputs": []
    },
    {
      "cell_type": "markdown",
      "source": [
        "### การชี้ สมาชิกใน Dictionary"
      ],
      "metadata": {
        "id": "f8wiUe2byY11"
      }
    },
    {
      "cell_type": "code",
      "source": [
        "dict_a[1] # ชี้ตัวที่ 1"
      ],
      "metadata": {
        "id": "19Cr62LHyP-r",
        "outputId": "aca8cdff-33cc-4309-d024-acf60b63eb99",
        "colab": {
          "base_uri": "https://localhost:8080/",
          "height": 35
        }
      },
      "execution_count": 2,
      "outputs": [
        {
          "output_type": "execute_result",
          "data": {
            "text/plain": [
              "'Happy'"
            ],
            "application/vnd.google.colaboratory.intrinsic+json": {
              "type": "string"
            }
          },
          "metadata": {},
          "execution_count": 2
        }
      ]
    },
    {
      "cell_type": "code",
      "source": [
        "dict_a['N'] # ดึงตัว N นั่นก็คือ New"
      ],
      "metadata": {
        "id": "Dn015DRByoIS",
        "outputId": "e63edbd2-13f2-4577-9a58-faa5cf8d877b",
        "colab": {
          "base_uri": "https://localhost:8080/",
          "height": 35
        }
      },
      "execution_count": 10,
      "outputs": [
        {
          "output_type": "execute_result",
          "data": {
            "text/plain": [
              "'New'"
            ],
            "application/vnd.google.colaboratory.intrinsic+json": {
              "type": "string"
            }
          },
          "metadata": {},
          "execution_count": 10
        }
      ]
    },
    {
      "cell_type": "code",
      "source": [
        "dict_a.keys() # เเสดงผลของ keys ขึ้นมา"
      ],
      "metadata": {
        "id": "XVCBWesRyryI",
        "outputId": "4af36e5f-a059-40e4-c078-a014afc1dc79",
        "colab": {
          "base_uri": "https://localhost:8080/"
        }
      },
      "execution_count": 4,
      "outputs": [
        {
          "output_type": "execute_result",
          "data": {
            "text/plain": [
              "dict_keys([1, 'N', '2022'])"
            ]
          },
          "metadata": {},
          "execution_count": 4
        }
      ]
    },
    {
      "cell_type": "code",
      "source": [
        "dict_a.values() # เเสดงผลของค่าผลลัพธ์"
      ],
      "metadata": {
        "id": "KD2AoZqUyyVS",
        "outputId": "46f1c560-77ee-4df5-c387-fcce0416253e",
        "colab": {
          "base_uri": "https://localhost:8080/"
        }
      },
      "execution_count": 5,
      "outputs": [
        {
          "output_type": "execute_result",
          "data": {
            "text/plain": [
              "dict_values(['Happy', 'New', 'Year'])"
            ]
          },
          "metadata": {},
          "execution_count": 5
        }
      ]
    },
    {
      "cell_type": "markdown",
      "source": [
        "### การเพิ่มสมาชิกลงไปใน Dictionary"
      ],
      "metadata": {
        "id": "MIv8-me4y-Hk"
      }
    },
    {
      "cell_type": "code",
      "source": [
        "dict_a[7] = 3.14 # keys 7 มีค่าเท่ากับ 3.14"
      ],
      "metadata": {
        "id": "lRdtWyWlzAY8"
      },
      "execution_count": 6,
      "outputs": []
    },
    {
      "cell_type": "code",
      "source": [
        "dict_a # เพิ่มสมาชิกขึ้นมา keys 7 มีค่าเท่ากับ 3.14"
      ],
      "metadata": {
        "id": "TFlQvo08zDit",
        "outputId": "11626783-115f-4ed7-8172-4814cf1a670f",
        "colab": {
          "base_uri": "https://localhost:8080/"
        }
      },
      "execution_count": 7,
      "outputs": [
        {
          "output_type": "execute_result",
          "data": {
            "text/plain": [
              "{1: 'Happy', 'N': 'New', '2022': 'Year', 7: 3.14}"
            ]
          },
          "metadata": {},
          "execution_count": 7
        }
      ]
    },
    {
      "cell_type": "code",
      "source": [
        "dict_a[7] = 2023 #ถ้าใช้ index ชนกัน มันจะไป update ค่าในอินเด็กซ์นั้นแทน"
      ],
      "metadata": {
        "id": "W96KrtrLzLx-"
      },
      "execution_count": 8,
      "outputs": []
    },
    {
      "cell_type": "code",
      "source": [
        "dict_a"
      ],
      "metadata": {
        "id": "MuedWCZjzO60",
        "outputId": "7ef8a435-57da-44c3-8773-cbad3fab6f83",
        "colab": {
          "base_uri": "https://localhost:8080/"
        }
      },
      "execution_count": 9,
      "outputs": [
        {
          "output_type": "execute_result",
          "data": {
            "text/plain": [
              "{1: 'Happy', 'N': 'New', '2022': 'Year', 7: 2023}"
            ]
          },
          "metadata": {},
          "execution_count": 9
        }
      ]
    },
    {
      "cell_type": "markdown",
      "source": [
        "## **Numpy Array**\n",
        "- เก็บได้เเต่ตัวเลข\n",
        "- อ้างอิงโดยใช้ พิกัด (2 มิติ ก็มองเป็น Matrix)"
      ],
      "metadata": {
        "id": "wvuB1xijzVic"
      }
    },
    {
      "cell_type": "markdown",
      "source": [
        "### 2D array"
      ],
      "metadata": {
        "id": "M8KAjga-6hFl"
      }
    },
    {
      "cell_type": "code",
      "source": [
        "import numpy as np # import เเล้วเปลี่ยนชื่อ จาก numpy เป็น np"
      ],
      "metadata": {
        "id": "FshF2YaQ6akb"
      },
      "execution_count": 11,
      "outputs": []
    },
    {
      "cell_type": "code",
      "source": [
        "arr2_z = np.array([[1,2,3],[4,5,6]]) # สร้าง list ซ้อน list\n",
        "print(arr2_z) # ได้ list ที่มี สองเเถว สามหลัก"
      ],
      "metadata": {
        "id": "HZzSPGlF6nPN",
        "outputId": "eea44e34-306d-45db-96ca-89e76457f8ac",
        "colab": {
          "base_uri": "https://localhost:8080/"
        }
      },
      "execution_count": 14,
      "outputs": [
        {
          "output_type": "stream",
          "name": "stdout",
          "text": [
            "[[1 2 3]\n",
            " [4 5 6]]\n"
          ]
        }
      ]
    },
    {
      "cell_type": "code",
      "source": [
        "arr2_z.shape # ดู shape ของ matrix จะได้ว่า มี สองเเถว สามหลัก"
      ],
      "metadata": {
        "id": "Jso0av5k63VJ",
        "outputId": "15fb5725-b4a6-49ff-c7e3-2f3116fdb32e",
        "colab": {
          "base_uri": "https://localhost:8080/"
        }
      },
      "execution_count": 15,
      "outputs": [
        {
          "output_type": "execute_result",
          "data": {
            "text/plain": [
              "(2, 3)"
            ]
          },
          "metadata": {},
          "execution_count": 15
        }
      ]
    },
    {
      "cell_type": "markdown",
      "source": [
        "#`np.zeros()`\n",
        "คือการสร้าง array ที่มีค่าเป็น 0 ออกมา เพราะเป็น identity ของ การบวก\n",
        "\n"
      ],
      "metadata": {
        "id": "y5gL9iQtZbH-"
      }
    },
    {
      "cell_type": "code",
      "source": [
        "arr2_3_5_0 = np.zeros((3,5)) # สร้าง array 0 ที่มี 3 เเถว 5 หลัก โดยมีค่าเป็น 0 ทั้งหมด"
      ],
      "metadata": {
        "id": "A0d3SHQlZCjN"
      },
      "execution_count": 16,
      "outputs": []
    },
    {
      "cell_type": "code",
      "source": [
        "arr2_3_5_0 # array ตั้งต้น"
      ],
      "metadata": {
        "colab": {
          "base_uri": "https://localhost:8080/"
        },
        "id": "xKKIZFTGaLL-",
        "outputId": "3f464e35-14c3-420d-d669-9f4630acf0f2"
      },
      "execution_count": 17,
      "outputs": [
        {
          "output_type": "execute_result",
          "data": {
            "text/plain": [
              "array([[0., 0., 0., 0., 0.],\n",
              "       [0., 0., 0., 0., 0.],\n",
              "       [0., 0., 0., 0., 0.]])"
            ]
          },
          "metadata": {},
          "execution_count": 17
        }
      ]
    },
    {
      "cell_type": "code",
      "source": [
        "arr2_3_5_0[1,1] #เมื่อจะดูว่าอยู่แถวไหนหลักไหน ให้เรียกดูแบบพิกัด"
      ],
      "metadata": {
        "colab": {
          "base_uri": "https://localhost:8080/"
        },
        "id": "LZAJNK2l4yfl",
        "outputId": "147bffcc-09ba-4bd5-c0cf-f98fa31d8783"
      },
      "execution_count": 18,
      "outputs": [
        {
          "output_type": "execute_result",
          "data": {
            "text/plain": [
              "0.0"
            ]
          },
          "metadata": {},
          "execution_count": 18
        }
      ]
    },
    {
      "cell_type": "code",
      "source": [
        "arr2_3_5_0[1,2] = 9 # arr[เเถว,หลัก] มีค่าเท่ากับ 9"
      ],
      "metadata": {
        "id": "49Tm3yKLaVhk"
      },
      "execution_count": 19,
      "outputs": []
    },
    {
      "cell_type": "code",
      "source": [
        "arr2_3_5_0 # เมื่อเติมเลข 9 เเล้ว"
      ],
      "metadata": {
        "colab": {
          "base_uri": "https://localhost:8080/"
        },
        "id": "oDyOMxpPamGR",
        "outputId": "47c4bfc8-3e90-4954-fc7e-16f64501371a"
      },
      "execution_count": 20,
      "outputs": [
        {
          "output_type": "execute_result",
          "data": {
            "text/plain": [
              "array([[0., 0., 0., 0., 0.],\n",
              "       [0., 0., 9., 0., 0.],\n",
              "       [0., 0., 0., 0., 0.]])"
            ]
          },
          "metadata": {},
          "execution_count": 20
        }
      ]
    },
    {
      "cell_type": "code",
      "source": [
        "arr2_3_5_0[1,2] # บอกค่าของ ตำเเหน่ง เเถว 1 หลัก 2 มีค่าเท่ากับ 9.0"
      ],
      "metadata": {
        "colab": {
          "base_uri": "https://localhost:8080/"
        },
        "id": "iUklcsVdaqS2",
        "outputId": "87d1a474-4d35-4998-9ceb-8f46be9985b3"
      },
      "execution_count": 21,
      "outputs": [
        {
          "output_type": "execute_result",
          "data": {
            "text/plain": [
              "9.0"
            ]
          },
          "metadata": {},
          "execution_count": 21
        }
      ]
    },
    {
      "cell_type": "code",
      "source": [
        "list_A = [1,2,3,4,5] # สร้าง list\n",
        "print(list_A) # เปลี่ยนค่าใน list()\n",
        "list_A[-1] = 'Christmas' # เปลี่ยนค่าตัวสุดท้าย ให้เป็น Christmas\n",
        "print(list_A) # เเสดงผลออกมา"
      ],
      "metadata": {
        "colab": {
          "base_uri": "https://localhost:8080/"
        },
        "id": "AmgRjVJabVMt",
        "outputId": "fe28e3f1-ce41-4933-beba-8b73678e4578"
      },
      "execution_count": 24,
      "outputs": [
        {
          "output_type": "stream",
          "name": "stdout",
          "text": [
            "[1, 2, 3, 4, 5]\n",
            "[1, 2, 3, 4, 'Christmas']\n"
          ]
        }
      ]
    },
    {
      "cell_type": "markdown",
      "source": [
        "##`np.ones()`\n",
        "คือการสร้าง array ที่มีค่าเป็น 1 ออกมา\n",
        "เพราะเป็น identity ของ การคูณ"
      ],
      "metadata": {
        "id": "S5ZLaHz6b-XX"
      }
    },
    {
      "cell_type": "code",
      "source": [
        "arr2_4_5_1 = np.ones((4,5)) # มี 4 เเถว 5 หลัก"
      ],
      "metadata": {
        "id": "EIxbS322cB7G"
      },
      "execution_count": 25,
      "outputs": []
    },
    {
      "cell_type": "code",
      "source": [
        "arr2_4_5_1 # ค่าเป็น 1 หมด"
      ],
      "metadata": {
        "colab": {
          "base_uri": "https://localhost:8080/"
        },
        "id": "VjV6zUm0cGaU",
        "outputId": "f94860ff-aac6-46d5-ba7f-83b99fe21bbb"
      },
      "execution_count": 26,
      "outputs": [
        {
          "output_type": "execute_result",
          "data": {
            "text/plain": [
              "array([[1., 1., 1., 1., 1.],\n",
              "       [1., 1., 1., 1., 1.],\n",
              "       [1., 1., 1., 1., 1.],\n",
              "       [1., 1., 1., 1., 1.]])"
            ]
          },
          "metadata": {},
          "execution_count": 26
        }
      ]
    },
    {
      "cell_type": "code",
      "source": [
        "arr2_4_5_200 = 200 * np.ones((4,5)) # การคูณ 200 กับ matrix ones"
      ],
      "metadata": {
        "id": "h1oyLcJQcfas"
      },
      "execution_count": 27,
      "outputs": []
    },
    {
      "cell_type": "code",
      "source": [
        "arr2_4_5_200 # ก็จะออกมาเป็น 200 ทั้งหมด"
      ],
      "metadata": {
        "colab": {
          "base_uri": "https://localhost:8080/"
        },
        "id": "vjFcEvRIcpje",
        "outputId": "89d04c97-1b68-4842-83d6-11dc7ec77da2"
      },
      "execution_count": 28,
      "outputs": [
        {
          "output_type": "execute_result",
          "data": {
            "text/plain": [
              "array([[200., 200., 200., 200., 200.],\n",
              "       [200., 200., 200., 200., 200.],\n",
              "       [200., 200., 200., 200., 200.],\n",
              "       [200., 200., 200., 200., 200.]])"
            ]
          },
          "metadata": {},
          "execution_count": 28
        }
      ]
    },
    {
      "cell_type": "markdown",
      "source": [
        "##`np.ones()`\n",
        "คือการสร้าง array ที่มีค่าเป็น 1 ออกมา\n",
        "เพราะเป็น identity ของ การคูณ"
      ],
      "metadata": {
        "id": "eregJRF29CzK"
      }
    },
    {
      "cell_type": "code",
      "source": [
        "arr2_4_5_1 = np.ones((4,5)) # มี 4 เเถว 5 หลัก"
      ],
      "metadata": {
        "id": "6fwGEFnp9CzK"
      },
      "execution_count": 29,
      "outputs": []
    },
    {
      "cell_type": "code",
      "source": [
        "arr2_4_5_1 # ค่าเป็น 1 หมด"
      ],
      "metadata": {
        "colab": {
          "base_uri": "https://localhost:8080/"
        },
        "outputId": "209e80ed-def6-4fe3-c6a5-4cf1d0f60e36",
        "id": "a8W-kZPY9CzL"
      },
      "execution_count": 30,
      "outputs": [
        {
          "output_type": "execute_result",
          "data": {
            "text/plain": [
              "array([[1., 1., 1., 1., 1.],\n",
              "       [1., 1., 1., 1., 1.],\n",
              "       [1., 1., 1., 1., 1.],\n",
              "       [1., 1., 1., 1., 1.]])"
            ]
          },
          "metadata": {},
          "execution_count": 30
        }
      ]
    },
    {
      "cell_type": "code",
      "source": [
        "arr2_4_5_200 = 200 * np.ones((4,5)) # การคูณ 200 กับ matrix ones"
      ],
      "metadata": {
        "id": "v5X1FWfY9CzL"
      },
      "execution_count": 31,
      "outputs": []
    },
    {
      "cell_type": "code",
      "source": [
        "arr2_4_5_200 # ก็จะออกมาเป็น 200 ทั้งหมด"
      ],
      "metadata": {
        "colab": {
          "base_uri": "https://localhost:8080/"
        },
        "outputId": "85ee4740-21cd-4d26-9c5b-f99d4caf335e",
        "id": "hs5wEtaK9CzL"
      },
      "execution_count": 32,
      "outputs": [
        {
          "output_type": "execute_result",
          "data": {
            "text/plain": [
              "array([[200., 200., 200., 200., 200.],\n",
              "       [200., 200., 200., 200., 200.],\n",
              "       [200., 200., 200., 200., 200.],\n",
              "       [200., 200., 200., 200., 200.]])"
            ]
          },
          "metadata": {},
          "execution_count": 32
        }
      ]
    },
    {
      "cell_type": "markdown",
      "source": [
        "##HW 2\n",
        "สร้าง array ที่เป็นรูป logo ก้าวไกล"
      ],
      "metadata": {
        "id": "Z8gswtggnrZx"
      }
    },
    {
      "cell_type": "code",
      "source": [
        "import numpy as np\n",
        "mf_kawklai = np.zeros((18,15))\n",
        "mf_kawklai[0:3] = 11\n",
        "mf_kawklai[3,12:15] = 11\n",
        "mf_kawklai[4,12:14] = 11\n",
        "mf_kawklai[4,14:15] = 1\n",
        "mf_kawklai[5,11:14] = 11\n",
        "mf_kawklai[5,13:14] = 1\n",
        "mf_kawklai[6,11:14] = 11\n",
        "mf_kawklai[6,12:14] = 1\n",
        "mf_kawklai[7,11:14] = 11\n",
        "mf_kawklai[7,12:14] = 1\n",
        "mf_kawklai[8,11:14] = 11\n",
        "mf_kawklai[8,12:14] = 1\n",
        "mf_kawklai[9,10:13] = 11\n",
        "mf_kawklai[9,11:13] = 1\n",
        "mf_kawklai[10,10:13] = 11\n",
        "mf_kawklai[10,11:13] = 1\n",
        "mf_kawklai[11,10:13] = 11\n",
        "mf_kawklai[11,11:13] = 1\n",
        "mf_kawklai[12,9:12] = 11\n",
        "mf_kawklai[12,10:12] = 1\n",
        "mf_kawklai[13,9:12] = 11\n",
        "mf_kawklai[13,10:12] = 1\n",
        "mf_kawklai[14,9:12] = 11\n",
        "mf_kawklai[14,10:12] = 1\n",
        "mf_kawklai[15,8:11] = 11\n",
        "mf_kawklai[15,9:11] = 1\n",
        "mf_kawklai[16,7:11] = 11\n",
        "mf_kawklai[16,9:11] = 1\n",
        "mf_kawklai[17,7:10] = 11\n",
        "mf_kawklai[17,8:10] = 1\n",
        "\n",
        "mf_kawklai[5,0:9] = 11\n",
        "mf_kawklai[6,0:9] = 11\n",
        "mf_kawklai[6,8:9] = 1\n",
        "mf_kawklai[7,6:9] = 11\n",
        "mf_kawklai[7,8:9] = 1\n",
        "mf_kawklai[8,6:9] = 11\n",
        "mf_kawklai[8,8:9] = 1\n",
        "mf_kawklai[9,5:8] = 11\n",
        "mf_kawklai[9,7:8] = 1\n",
        "mf_kawklai[10,5:8] = 11\n",
        "mf_kawklai[10,7:8] = 1\n",
        "mf_kawklai[11,4:7] = 11\n",
        "mf_kawklai[11,6:7] = 1\n",
        "mf_kawklai[12,4:7] = 11\n",
        "mf_kawklai[12,6:7] = 1\n",
        "mf_kawklai[13,3:6] = 11\n",
        "mf_kawklai[13,5:6] = 1\n",
        "mf_kawklai[14,3:6] = 11\n",
        "mf_kawklai[14,5:6] = 1\n",
        "mf_kawklai[15,2:5] = 11\n",
        "mf_kawklai[15,4:5] = 1\n",
        "mf_kawklai[16,2:5] = 11\n",
        "mf_kawklai[16,4:5] = 1\n",
        "mf_kawklai[17,1:4] = 11\n",
        "mf_kawklai[17,3:4] = 1\n",
        "print(mf_kawklai)\n",
        "\n"
      ],
      "metadata": {
        "colab": {
          "base_uri": "https://localhost:8080/"
        },
        "id": "Gu3rtvlMnrK0",
        "outputId": "ac675aa9-3254-421c-9ac3-86ce3002c48d"
      },
      "execution_count": null,
      "outputs": [
        {
          "output_type": "stream",
          "name": "stdout",
          "text": [
            "[[11. 11. 11. 11. 11. 11. 11. 11. 11. 11. 11. 11. 11. 11. 11.]\n",
            " [11. 11. 11. 11. 11. 11. 11. 11. 11. 11. 11. 11. 11. 11. 11.]\n",
            " [11. 11. 11. 11. 11. 11. 11. 11. 11. 11. 11. 11. 11. 11. 11.]\n",
            " [ 0.  0.  0.  0.  0.  0.  0.  0.  0.  0.  0.  0. 11. 11. 11.]\n",
            " [ 0.  0.  0.  0.  0.  0.  0.  0.  0.  0.  0.  0. 11. 11.  1.]\n",
            " [11. 11. 11. 11. 11. 11. 11. 11. 11.  0.  0. 11. 11.  1.  0.]\n",
            " [11. 11. 11. 11. 11. 11. 11. 11.  1.  0.  0. 11.  1.  1.  0.]\n",
            " [ 0.  0.  0.  0.  0.  0. 11. 11.  1.  0.  0. 11.  1.  1.  0.]\n",
            " [ 0.  0.  0.  0.  0.  0. 11. 11.  1.  0.  0. 11.  1.  1.  0.]\n",
            " [ 0.  0.  0.  0.  0. 11. 11.  1.  0.  0. 11.  1.  1.  0.  0.]\n",
            " [ 0.  0.  0.  0.  0. 11. 11.  1.  0.  0. 11.  1.  1.  0.  0.]\n",
            " [ 0.  0.  0.  0. 11. 11.  1.  0.  0.  0. 11.  1.  1.  0.  0.]\n",
            " [ 0.  0.  0.  0. 11. 11.  1.  0.  0. 11.  1.  1.  0.  0.  0.]\n",
            " [ 0.  0.  0. 11. 11.  1.  0.  0.  0. 11.  1.  1.  0.  0.  0.]\n",
            " [ 0.  0.  0. 11. 11.  1.  0.  0.  0. 11.  1.  1.  0.  0.  0.]\n",
            " [ 0.  0. 11. 11.  1.  0.  0.  0. 11.  1.  1.  0.  0.  0.  0.]\n",
            " [ 0.  0. 11. 11.  1.  0.  0. 11. 11.  1.  1.  0.  0.  0.  0.]\n",
            " [ 0. 11. 11.  1.  0.  0.  0. 11.  1.  1.  0.  0.  0.  0.  0.]]\n"
          ]
        }
      ]
    },
    {
      "cell_type": "markdown",
      "source": [
        "##HW 2.5\n",
        "สร้าง array ที่เป็นรูป logo ก้าวไกล สามารถเปลี่ยนพื้นหลังได้\n"
      ],
      "metadata": {
        "id": "xeaodBmm8zGB"
      }
    },
    {
      "cell_type": "code",
      "source": [
        "import numpy as np\n",
        "def ton(x,y):\n",
        "  mf_kawklai = x * np.ones((18,15))\n",
        "  logo_gg = y\n",
        "  mf_kawklai[1,1:16] = logo_gg\n",
        "  mf_kawklai[2,1:16] = logo_gg\n",
        "  mf_kawklai[3,1:16] = logo_gg\n",
        "  mf_kawklai[4,16:20] = logo_gg\n",
        "  mf_kawklai[5,15:19] = logo_gg\n",
        "  mf_kawklai[6,14:18] = logo_gg\n",
        "  mf_kawklai[7,13:17] = logo_gg\n",
        "  mf_kawklai[8,12:16] = logo_gg\n",
        "  mf_kawklai[9,11:15] = logo_gg\n",
        "  mf_kawklai[10,10:14] = logo_gg\n",
        "  mf_kawklai[11,9:13] = logo_gg\n",
        "  mf_kawklai[12,8:12] = logo_gg\n",
        "  mf_kawklai[13,7:11] = logo_gg\n",
        "  mf_kawklai[14,6:10] = logo_gg\n",
        "  mf_kawklai[15,5:9] = logo_gg\n",
        "\n",
        "  mf_kawklai[5,1:12] = logo_gg\n",
        "  mf_kawklai[6,1:11] = logo_gg\n",
        "  mf_kawklai[7,8:10] = logo_gg\n",
        "  mf_kawklai[8,7:9] = logo_gg\n",
        "  mf_kawklai[9,6:8] = logo_gg\n",
        "  mf_kawklai[10,5:7] = logo_gg\n",
        "  mf_kawklai[11,4:6] = logo_gg\n",
        "  mf_kawklai[12,3:5] = logo_gg\n",
        "  mf_kawklai[13,2:4] = logo_gg\n",
        "  mf_kawklai[14,1:3] = logo_gg\n",
        "  mf_kawklai\n",
        "  return mf_kawklai\n"
      ],
      "metadata": {
        "id": "OUvlrkcUyOty"
      },
      "execution_count": null,
      "outputs": []
    },
    {
      "cell_type": "code",
      "source": [
        "ton(8,7)"
      ],
      "metadata": {
        "colab": {
          "base_uri": "https://localhost:8080/"
        },
        "id": "jym_ic-2wmTa",
        "outputId": "ecfc44db-83aa-420e-c109-a6a4aa23bad3"
      },
      "execution_count": null,
      "outputs": [
        {
          "output_type": "execute_result",
          "data": {
            "text/plain": [
              "array([[8., 8., 8., 8., 8., 8., 8., 8., 8., 8., 8., 8., 8., 8., 8.],\n",
              "       [8., 7., 7., 7., 7., 7., 7., 7., 7., 7., 7., 7., 7., 7., 7.],\n",
              "       [8., 7., 7., 7., 7., 7., 7., 7., 7., 7., 7., 7., 7., 7., 7.],\n",
              "       [8., 7., 7., 7., 7., 7., 7., 7., 7., 7., 7., 7., 7., 7., 7.],\n",
              "       [8., 8., 8., 8., 8., 8., 8., 8., 8., 8., 8., 8., 8., 8., 8.],\n",
              "       [8., 7., 7., 7., 7., 7., 7., 7., 7., 7., 7., 7., 8., 8., 8.],\n",
              "       [8., 7., 7., 7., 7., 7., 7., 7., 7., 7., 7., 8., 8., 8., 7.],\n",
              "       [8., 8., 8., 8., 8., 8., 8., 8., 7., 7., 8., 8., 8., 7., 7.],\n",
              "       [8., 8., 8., 8., 8., 8., 8., 7., 7., 8., 8., 8., 7., 7., 7.],\n",
              "       [8., 8., 8., 8., 8., 8., 7., 7., 8., 8., 8., 7., 7., 7., 7.],\n",
              "       [8., 8., 8., 8., 8., 7., 7., 8., 8., 8., 7., 7., 7., 7., 8.],\n",
              "       [8., 8., 8., 8., 7., 7., 8., 8., 8., 7., 7., 7., 7., 8., 8.],\n",
              "       [8., 8., 8., 7., 7., 8., 8., 8., 7., 7., 7., 7., 8., 8., 8.],\n",
              "       [8., 8., 7., 7., 8., 8., 8., 7., 7., 7., 7., 8., 8., 8., 8.],\n",
              "       [8., 7., 7., 8., 8., 8., 7., 7., 7., 7., 8., 8., 8., 8., 8.],\n",
              "       [8., 8., 8., 8., 8., 7., 7., 7., 7., 8., 8., 8., 8., 8., 8.],\n",
              "       [8., 8., 8., 8., 8., 8., 8., 8., 8., 8., 8., 8., 8., 8., 8.],\n",
              "       [8., 8., 8., 8., 8., 8., 8., 8., 8., 8., 8., 8., 8., 8., 8.]])"
            ]
          },
          "metadata": {},
          "execution_count": 53
        }
      ]
    }
  ]
}